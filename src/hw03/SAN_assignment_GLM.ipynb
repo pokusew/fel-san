{
 "cells": [
  {
   "cell_type": "markdown",
   "source": [
    "# SAN Assignment - Generalized linear models\n",
    "\n",
    "Author : Your Name \\\n",
    "Email  : you@fel.cvut.cz"
   ],
   "metadata": {
    "collapsed": false
   }
  },
  {
   "cell_type": "markdown",
   "id": "8b00804e",
   "metadata": {
    "lines_to_next_cell": 0
   },
   "source": [
    "#### Introduction\n",
    "The aim of this assignment is to practice constructing linear models. You will start with a simple linear model. You will evaluate and interpret it (1p). Consequently, your task will be to improve this model using generalized linear models (GLMs) and feature transformations. You will get 1p for proposal and evaluation of GLM (family, evaluation, interpretation), 1p for correct feature transformations, 1p for proposal and justification of the final model and eventually, 1p for comprehensive evaluation of all the model improvements (ablation study through cross-validation, note that the previous evaluations must be done without cross-validation).\n",
    "\n",
    "#### Input data \n",
    "In this assignment, you will work with a student dataset. The dataset contains 200 samples and 4 features: *num_awards* is the outcome variable and indicates the number of awards earned by students in a year, *math* is a continuous predictor variable and represents students’ scores on their math final exam, *prog* is a categorical predictor variable with three levels indicating the type of program in which the students were enrolled (1 = “General”, 2 = “Academic” and 3 = “Vocational”), and *work* is a continuous predictor that gives the number of hours that students spent at work on average per week.\n",
    "\n",
    "#### Load the necessary libraries and the dataset"
   ]
  },
  {
   "cell_type": "code",
   "execution_count": null,
   "outputs": [],
   "source": [
    "import pandas as pd\n",
    "import statsmodels.api as sm\n",
    "import matplotlib.pyplot as plt\n",
    "from scipy import stats\n",
    "from collections import defaultdict\n",
    "import scipy.stats\n",
    "from sklearn.metrics import mean_absolute_error, mean_squared_error, r2_score\n",
    "from sklearn.model_selection import KFold\n",
    "\n",
    "df = pd.read_csv(\"study_data.csv\")\n",
    "X = df.loc[:, df.columns != \"num_awards\"]\n",
    "X = sm.add_constant(X)\n",
    "y = df.num_awards.to_numpy()"
   ],
   "metadata": {
    "collapsed": false
   }
  },
  {
   "cell_type": "markdown",
   "id": "fe169f86",
   "metadata": {
    "lines_to_next_cell": 0
   },
   "source": [
    "#### Simple linear model\n",
    "Let us start with an ordinary linear model with no feature transformations. Explain how far the model works (does it meet formal assumptions?, does it overcome the null model?). Which predictors would you keep there and which of them are not useful? Use the standard evaluation procedures that we have for linear models (notice, that GML with Gaussian family corresponds to an OLS model, only the summary is slightly more general).\n"
   ]
  },
  {
   "cell_type": "code",
   "execution_count": null,
   "outputs": [],
   "source": [
    "res = sm.OLS(endog=y, exog=X).fit()\n",
    "print(res.summary())\n",
    "res = sm.GLM(endog=y, exog=X, family=sm.families.Gaussian()).fit()\n",
    "print(res.summary())\n",
    "\n",
    "plt.scatter(y, res.predict(X))\n",
    "plt.ylabel(\"predicted no. awards\")\n",
    "plt.xlabel(\"real no. awards\")\n",
    "plt.ylim((-1, 6))\n",
    "plt.show()\n",
    "\n",
    "\n",
    "try:\n",
    "    sm.graphics.plot_fit(res, \"math\")\n",
    "except AttributeError:\n",
    "    pass\n",
    "finally:\n",
    "    plt.show()"
   ],
   "metadata": {
    "collapsed": false
   }
  },
  {
   "cell_type": "markdown",
   "id": "4f31ef92",
   "metadata": {},
   "source": [
    "**Add your verbal summary here (1p)**:"
   ]
  },
  {
   "cell_type": "markdown",
   "id": "8f361458",
   "metadata": {
    "lines_to_next_cell": 0
   },
   "source": [
    "### Generalized linear model\n",
    "Now, the goal is to implement a generalized linear model that conceptually fits the given task. Do not transform the predictors yet, use them as they are, or omit them from the model. Once you obtain your model, interpret the effect of the *math* predictor on the outcome. How (according to your model) increasing a math score by one point affects the number of awards won? \n",
    "\n",
    "Explain why the model overcomes the previous linear model, or justify that the generalized model is not needed. Compare the models theoretically as well as technically in terms of a proper quality measure(s). Note: The difference between the models generally cannot be statistically tested.\n",
    "\n",
    "Because in Python you cannot use *anova* function refer for example to the [[Likelihood ration test (LTR)|https://www.statology.org/likelihood-ratio-test-in-python/]] when comparing **nested** models, which you can easily implement yourself."
   ]
  },
  {
   "cell_type": "code",
   "execution_count": null,
   "id": "9f61acee",
   "metadata": {
    "lines_to_next_cell": 0
   },
   "outputs": [],
   "source": [
    "#### add your code here ####\n"
   ]
  },
  {
   "cell_type": "markdown",
   "id": "2d46ee36",
   "metadata": {},
   "source": [
    "**Add your verbal summary here (1p)**:"
   ]
  },
  {
   "cell_type": "markdown",
   "id": "51b51ed0",
   "metadata": {
    "lines_to_next_cell": 0
   },
   "source": [
    "### Feature transformations and final model\n",
    "*prog* and *work* did not prove to be effective predictors so far. Visualize these predictors as well as their relationship with the outcome variable. Based on the observations, propose suitable transformations for them (or, justify that they are truly uninformative for prediction of *num_awards*) and implement them into the best model found by now. Use the *compareGLM()* function to validate that your new GLMs indeed improved over the simple one.\n",
    "\n",
    "To achieve the same results as with R formulas (e.g. polynomial regression like *num_awards ~ poly(...)*) in Python you need to transform your features explicitly before passing them to your model. You do this by modifying the exog data in X.\n",
    "For tools to do polynomial or spline transformations refer for example to sklearn:\n",
    "[[SplineTransformer|https://scikit-learn.org/stable/modules/generated/sklearn.preprocessing.SplineTransformer.html]]\n",
    "[[PolynomialFeatures|https://scikit-learn.org/stable/modules/generated/sklearn.preprocessing.PolynomialFeatures.html]]\n",
    "\n",
    "\n"
   ]
  },
  {
   "cell_type": "code",
   "execution_count": null,
   "outputs": [],
   "source": [
    "cols = [\"num_awards\", \"prog\"]\n",
    "df_transformed = df[cols].groupby(cols).size().reset_index(level=-1)\n",
    "programs = pd.unique(df_transformed.prog).tolist()\n",
    "pd.concat([\n",
    "    df_transformed.loc[df_transformed.prog == p, 0]\n",
    "    for p in programs\n",
    "], axis=1).set_axis(programs, axis=\"columns\").plot.bar()\n",
    "plt.title(\"No. of students per no. of awards in each program\")\n",
    "plt.show()\n",
    "\n",
    "for p in programs:\n",
    "    plt.scatter(df.work.loc[df.prog == p], df.num_awards.loc[df.prog == p], label=p)\n",
    "plt.title(\"Number of awards by amount of work and program\")\n",
    "plt.xlabel(\"work\")\n",
    "plt.ylabel(\"awards\")\n",
    "plt.legend()\n",
    "plt.show()\n",
    "\n",
    "#### add your code here ####\n"
   ],
   "metadata": {
    "collapsed": false
   }
  },
  {
   "cell_type": "markdown",
   "id": "0fa5256f",
   "metadata": {
    "lines_to_next_cell": 0
   },
   "source": [
    "**Add your verbal summary here (2p)** :\n"
   ],
   "outputs": []
  },
  {
   "cell_type": "markdown",
   "source": [
    "### Ablation study through cross-validation\n",
    "Recap all the models considered previously and evaluate them through cross-validation. You can start with the most simple null model and gradually add the previously discussed improvements. See their role in terms of MAE, RMSE and other commonly used criteria. The procedure outlined below proposes to work with the preprepared *train_with_cv* function, you can only add more models to evaluate and compare."
   ],
   "metadata": {
    "collapsed": false
   }
  },
  {
   "cell_type": "code",
   "execution_count": null,
   "outputs": [],
   "source": [
    "def test_glm_with_cv(X, y, model_type, model_name, model_family=sm.families.Gaussian(), n_folds=10):\n",
    "    \"\"\"\n",
    "    You can use this function to test your GLM models in CV settings. If you want, you can edit\n",
    "    this function, e.g. to have more comparison metrics, but justify it well in your commentary.\n",
    "\n",
    "    :param X: your independent variables / features\n",
    "    :param y: your response variable\n",
    "    :param model_name: just for convenience you can name your models\n",
    "    :param model_family: family of your GLM model (from statsmodels.families),\n",
    "                        the default corresponds to an OLS model\n",
    "    :param n_folds: number of folds to perform in your CV\n",
    "    :return: returns a DataFrame with all the metrics for a particular model\n",
    "    \"\"\"\n",
    "    assert model_type in [\"lm\", \"glm\"]\n",
    "    metrics = {\n",
    "        \"mse\": mean_squared_error,\n",
    "        \"mae\": mean_absolute_error,\n",
    "        \"r2\": r2_score,\n",
    "    }\n",
    "\n",
    "    skf = KFold(n_splits=n_folds, shuffle=True, random_state=0)\n",
    "    metrics_results = defaultdict(list)\n",
    "    for train_idxs, test_idxs in skf.split(X, y):\n",
    "        model = sm.GLM(endog=y[train_idxs], exog=X[train_idxs], family=model_family)\n",
    "        fit = model.fit()\n",
    "        cmp = y[test_idxs], fit.predict(X[test_idxs])\n",
    "        for name, m in metrics.items():\n",
    "            metrics_results[name].append(m(*cmp))\n",
    "\n",
    "    means = {f\"{n}_mean\": [pd.Series(m).mean()] for n, m in metrics_results.items()}\n",
    "    sds = {f\"{n}_sd\": [pd.Series(m).std()] for n, m in metrics_results.items()}\n",
    "\n",
    "    res = pd.DataFrame({**means, **sds}).set_axis([model_name], axis=\"rows\")\n",
    "    return res"
   ],
   "metadata": {
    "collapsed": false
   }
  },
  {
   "cell_type": "code",
   "execution_count": null,
   "outputs": [],
   "source": [
    "# Here you have an example of the null lm model trained and tested with CV\n",
    "\n",
    "# the sm.add_constant prepared a column \"const\" of ones for the intercept estimation\n",
    "test_glm_with_cv(X = X.const.to_numpy(),\n",
    "                  y = df.num_awards.to_numpy(),\n",
    "                  model_type = \"lm\",\n",
    "                  model_name=\"mean_model\")\n",
    "\n",
    "#### add your code here ####\n"
   ],
   "metadata": {
    "collapsed": false
   }
  },
  {
   "cell_type": "markdown",
   "id": "a2d7d24e",
   "metadata": {},
   "source": [
    "**Add your verbal summary here (1p)**:\n"
   ]
  }
 ],
 "metadata": {
  "jupytext": {
   "cell_metadata_filter": "-all",
   "main_language": "Python",
   "notebook_metadata_filter": "-all"
  },
  "kernelspec": {
   "display_name": "Python 3 (ipykernel)",
   "language": "python",
   "name": "python3"
  },
  "language_info": {
   "codemirror_mode": {
    "name": "ipython",
    "version": 3
   },
   "file_extension": ".py",
   "mimetype": "text/x-python",
   "name": "python",
   "nbconvert_exporter": "python",
   "pygments_lexer": "ipython3",
   "version": "3.8.13"
  }
 },
 "nbformat": 4,
 "nbformat_minor": 5
}
